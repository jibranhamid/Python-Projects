{
 "cells": [
  {
   "cell_type": "code",
   "execution_count": null,
   "id": "ad5f2891-4667-43e0-8f0c-c702c5d1145a",
   "metadata": {},
   "outputs": [
    {
     "name": "stdout",
     "output_type": "stream",
     "text": [
      "\n",
      "Welcome to the Banking System!\n",
      "1. Create Account\n",
      "2. Deposit\n",
      "3. Withdraw\n",
      "4. Check Balance\n",
      "5. View Transactions\n",
      "6. Exit\n"
     ]
    },
    {
     "name": "stdin",
     "output_type": "stream",
     "text": [
      "Please choose an option (1-6):  1\n",
      "Please Enter your full Name OR type 'done' to finish  Jibran\n"
     ]
    },
    {
     "name": "stdout",
     "output_type": "stream",
     "text": [
      "Account successfully created for Jibran.\n"
     ]
    },
    {
     "name": "stdin",
     "output_type": "stream",
     "text": [
      "Please Enter your full Name OR type 'done' to finish  done\n"
     ]
    },
    {
     "name": "stdout",
     "output_type": "stream",
     "text": [
      "\n",
      "All Accounts Created:\n",
      "Name: Jibran, Balance: 0.0\n",
      "\n",
      "Welcome to the Banking System!\n",
      "1. Create Account\n",
      "2. Deposit\n",
      "3. Withdraw\n",
      "4. Check Balance\n",
      "5. View Transactions\n",
      "6. Exit\n"
     ]
    },
    {
     "name": "stdin",
     "output_type": "stream",
     "text": [
      "Please choose an option (1-6):  2\n",
      "Please enter account holder's name for deposit:  90\n"
     ]
    },
    {
     "name": "stdout",
     "output_type": "stream",
     "text": [
      "Account does not exist. Please enter a valid name.\n",
      "\n",
      "Welcome to the Banking System!\n",
      "1. Create Account\n",
      "2. Deposit\n",
      "3. Withdraw\n",
      "4. Check Balance\n",
      "5. View Transactions\n",
      "6. Exit\n"
     ]
    },
    {
     "name": "stdin",
     "output_type": "stream",
     "text": [
      "Please choose an option (1-6):  2\n",
      "Please enter account holder's name for deposit:  jibran\n"
     ]
    },
    {
     "name": "stdout",
     "output_type": "stream",
     "text": [
      "Account does not exist. Please enter a valid name.\n",
      "\n",
      "Welcome to the Banking System!\n",
      "1. Create Account\n",
      "2. Deposit\n",
      "3. Withdraw\n",
      "4. Check Balance\n",
      "5. View Transactions\n",
      "6. Exit\n"
     ]
    },
    {
     "name": "stdin",
     "output_type": "stream",
     "text": [
      "Please choose an option (1-6):  2\n",
      "Please enter account holder's name for deposit:  Jibran\n",
      "Enter the amount you want to deposit into Jibran's account:  j\n"
     ]
    },
    {
     "name": "stdout",
     "output_type": "stream",
     "text": [
      "Invalid input. Please enter a valid number.\n"
     ]
    },
    {
     "name": "stdin",
     "output_type": "stream",
     "text": [
      "Enter the amount you want to deposit into Jibran's account:  0\n"
     ]
    },
    {
     "name": "stdout",
     "output_type": "stream",
     "text": [
      "Please enter a positive amount\n"
     ]
    },
    {
     "name": "stdin",
     "output_type": "stream",
     "text": [
      "Enter the amount you want to deposit into Jibran's account:  -9\n"
     ]
    },
    {
     "name": "stdout",
     "output_type": "stream",
     "text": [
      "Please enter a positive amount\n"
     ]
    },
    {
     "name": "stdin",
     "output_type": "stream",
     "text": [
      "Enter the amount you want to deposit into Jibran's account:  900\n"
     ]
    },
    {
     "name": "stdout",
     "output_type": "stream",
     "text": [
      "Successfully deposited 900.0. Current Balance: 900.0\n",
      "\n",
      "Welcome to the Banking System!\n",
      "1. Create Account\n",
      "2. Deposit\n",
      "3. Withdraw\n",
      "4. Check Balance\n",
      "5. View Transactions\n",
      "6. Exit\n"
     ]
    },
    {
     "name": "stdin",
     "output_type": "stream",
     "text": [
      "Please choose an option (1-6):  3\n",
      "Please enter account holder's name for withdrawal:  Jibran\n",
      "Enter the amount you want to withdraw from Jibran's account:  0\n"
     ]
    },
    {
     "name": "stdout",
     "output_type": "stream",
     "text": [
      "Please enter a positive amount.\n"
     ]
    },
    {
     "name": "stdin",
     "output_type": "stream",
     "text": [
      "Enter the amount you want to withdraw from Jibran's account:  -900\n"
     ]
    },
    {
     "name": "stdout",
     "output_type": "stream",
     "text": [
      "Please enter a positive amount.\n"
     ]
    },
    {
     "name": "stdin",
     "output_type": "stream",
     "text": [
      "Enter the amount you want to withdraw from Jibran's account:  80000\n"
     ]
    },
    {
     "name": "stdout",
     "output_type": "stream",
     "text": [
      "Insufficient funds. Please enter a smaller amount.\n"
     ]
    },
    {
     "name": "stdin",
     "output_type": "stream",
     "text": [
      "Enter the amount you want to withdraw from Jibran's account:  90\n"
     ]
    },
    {
     "name": "stdout",
     "output_type": "stream",
     "text": [
      "Successfully withdrew 90.0. Current Balance: 810.0\n",
      "\n",
      "Welcome to the Banking System!\n",
      "1. Create Account\n",
      "2. Deposit\n",
      "3. Withdraw\n",
      "4. Check Balance\n",
      "5. View Transactions\n",
      "6. Exit\n"
     ]
    },
    {
     "name": "stdin",
     "output_type": "stream",
     "text": [
      "Please choose an option (1-6):  4\n",
      "Please enter account holder's name to check balance:  Jibran\n"
     ]
    },
    {
     "name": "stdout",
     "output_type": "stream",
     "text": [
      "Current balance for Jibran: 810.0\n",
      "\n",
      "Welcome to the Banking System!\n",
      "1. Create Account\n",
      "2. Deposit\n",
      "3. Withdraw\n",
      "4. Check Balance\n",
      "5. View Transactions\n",
      "6. Exit\n"
     ]
    },
    {
     "name": "stdin",
     "output_type": "stream",
     "text": [
      "Please choose an option (1-6):  5\n",
      "Please enter account holder's name to view transactions:  Jibran\n"
     ]
    },
    {
     "name": "stdout",
     "output_type": "stream",
     "text": [
      "Transactions for Jibran:\n",
      "Deposit: 900.0\n",
      "Withdrawal: 90.0\n",
      "\n",
      "Welcome to the Banking System!\n",
      "1. Create Account\n",
      "2. Deposit\n",
      "3. Withdraw\n",
      "4. Check Balance\n",
      "5. View Transactions\n",
      "6. Exit\n"
     ]
    }
   ],
   "source": [
    "def create_acc(accounts):\n",
    "    while True:\n",
    "        Name = input(\"Please Enter your full Name OR type 'done' to finish \")\n",
    "\n",
    "        if Name.lower() == \"done\":\n",
    "            break \n",
    "        \n",
    "        if not Name.replace(\" \", \"\").isalpha():\n",
    "            print(\"Please enter a valid name containing only alphabets.\")\n",
    "            continue\n",
    "        \n",
    "        if Name in accounts:\n",
    "            print(\"Account already exists for this name.\")\n",
    "        else:\n",
    "            accounts[Name] = {\"Balance\": 0.0, \"Transactions\": []}\n",
    "            print(f\"Account successfully created for {Name}.\")\n",
    "\n",
    "    print(\"\\nAll Accounts Created:\")\n",
    "    for name, info in accounts.items():\n",
    "        print(f\"Name: {name}, Balance: {info['Balance']}\")\n",
    "\n",
    "def deposit(accounts):\n",
    "    Name = input(\"Please enter account holder's name for deposit: \")\n",
    "    if Name not in accounts:\n",
    "        print(\"Account does not exist. Please enter a valid name.\")\n",
    "        return\n",
    "    \n",
    "    while True:\n",
    "        try:\n",
    "            Deposit_amt = float(input(f\"Enter the amount you want to deposit into {Name}'s account: \"))\n",
    "            if Deposit_amt > 0:\n",
    "                accounts[Name][\"Balance\"] += Deposit_amt\n",
    "                accounts[Name][\"Transactions\"].append(f\"Deposit: {Deposit_amt}\")\n",
    "                print(f\"Successfully deposited {Deposit_amt}. Current Balance: {accounts[Name]['Balance']}\")\n",
    "                break\n",
    "            else:\n",
    "                print(\"Please enter a positive amount\")\n",
    "        except ValueError:\n",
    "            print(\"Invalid input. Please enter a valid number.\")\n",
    "\n",
    "def withdraw(accounts):\n",
    "    Name = input(\"Please enter account holder's name for withdrawal: \")\n",
    "    if Name not in accounts:\n",
    "        print(\"Account does not exist. Please enter a valid name.\")\n",
    "        return\n",
    "    \n",
    "    while True:\n",
    "        try:\n",
    "            Withdraw_amt = float(input(f\"Enter the amount you want to withdraw from {Name}'s account: \"))\n",
    "            if Withdraw_amt > 0 and Withdraw_amt <= accounts[Name][\"Balance\"]:\n",
    "                accounts[Name][\"Balance\"] -= Withdraw_amt\n",
    "                accounts[Name][\"Transactions\"].append(f\"Withdrawal: {Withdraw_amt}\")\n",
    "                print(f\"Successfully withdrew {Withdraw_amt}. Current Balance: {accounts[Name]['Balance']}\")\n",
    "                break\n",
    "            elif Withdraw_amt > accounts[Name][\"Balance\"]:\n",
    "                print(\"Insufficient funds. Please enter a smaller amount.\")\n",
    "            else:\n",
    "                print(\"Please enter a positive amount.\")\n",
    "        except ValueError:\n",
    "            print(\"Invalid input. Please enter a valid number.\")\n",
    "\n",
    "def check_balance(accounts):\n",
    "    Name = input(\"Please enter account holder's name to check balance: \")\n",
    "    if Name not in accounts:\n",
    "        print(\"Account does not exist. Please enter a valid name.\")\n",
    "    else:\n",
    "        print(f\"Current balance for {Name}: {accounts[Name]['Balance']}\")\n",
    "\n",
    "def print_transactions(accounts):\n",
    "    Name = input(\"Please enter account holder's name to view transactions: \")\n",
    "    if Name not in accounts:\n",
    "        print(\"Account does not exist. Please enter a valid name.\")\n",
    "    else:\n",
    "        print(f\"Transactions for {Name}:\")\n",
    "        if accounts[Name][\"Transactions\"]:\n",
    "            for transaction in accounts[Name][\"Transactions\"]:\n",
    "                print(transaction)\n",
    "        else:\n",
    "            print(\"No transactions yet.\")\n",
    "\n",
    "accounts = {}\n",
    "\n",
    "while True:\n",
    "    print(\"\\nWelcome to the Banking System!\")\n",
    "    print(\"1. Create Account\")\n",
    "    print(\"2. Deposit\")\n",
    "    print(\"3. Withdraw\")\n",
    "    print(\"4. Check Balance\")\n",
    "    print(\"5. View Transactions\")\n",
    "    print(\"6. Exit\")\n",
    "    \n",
    "    choice = input(\"Please choose an option (1-6): \")\n",
    "\n",
    "    if choice == \"1\":\n",
    "        create_acc(accounts)\n",
    "    elif choice == \"2\":\n",
    "        deposit(accounts)\n",
    "    elif choice == \"3\":\n",
    "        withdraw(accounts)\n",
    "    elif choice == \"4\":\n",
    "        check_balance(accounts)\n",
    "    elif choice == \"5\":\n",
    "        print_transactions(accounts)\n",
    "    elif choice == \"6\":\n",
    "        print(\"Thank you for using the banking system!\")\n",
    "        break\n",
    "    else:\n",
    "        print(\"Invalid choice. Please choose a valid option.\")\n"
   ]
  },
  {
   "cell_type": "code",
   "execution_count": null,
   "id": "8eb15666-4246-4f25-a69f-dbf300d441b3",
   "metadata": {},
   "outputs": [],
   "source": []
  }
 ],
 "metadata": {
  "kernelspec": {
   "display_name": "Python 3 (ipykernel)",
   "language": "python",
   "name": "python3"
  },
  "language_info": {
   "codemirror_mode": {
    "name": "ipython",
    "version": 3
   },
   "file_extension": ".py",
   "mimetype": "text/x-python",
   "name": "python",
   "nbconvert_exporter": "python",
   "pygments_lexer": "ipython3",
   "version": "3.12.7"
  }
 },
 "nbformat": 4,
 "nbformat_minor": 5
}
