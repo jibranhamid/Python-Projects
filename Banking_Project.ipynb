{
  "nbformat": 4,
  "nbformat_minor": 0,
  "metadata": {
    "colab": {
      "provenance": [],
      "authorship_tag": "ABX9TyM/fx1b+CJuYfDfvRBVMq1Q",
      "include_colab_link": true
    },
    "kernelspec": {
      "name": "python3",
      "display_name": "Python 3"
    },
    "language_info": {
      "name": "python"
    }
  },
  "cells": [
    {
      "cell_type": "markdown",
      "metadata": {
        "id": "view-in-github",
        "colab_type": "text"
      },
      "source": [
        "<a href=\"https://colab.research.google.com/github/jibranhamid/Python-Projects/blob/main/Banking_Project.ipynb\" target=\"_parent\"><img src=\"https://colab.research.google.com/assets/colab-badge.svg\" alt=\"Open In Colab\"/></a>"
      ]
    },
    {
      "cell_type": "code",
      "execution_count": 1,
      "metadata": {
        "colab": {
          "base_uri": "https://localhost:8080/"
        },
        "id": "Mbrho3iIsGBp",
        "outputId": "b391276e-cfbb-4e8f-8f17-4c6a11e240ed"
      },
      "outputs": [
        {
          "output_type": "stream",
          "name": "stdout",
          "text": [
            "\n",
            "Welcome to the Banking System!\n",
            "1. Create Account\n",
            "2. Deposit\n",
            "3. Withdraw\n",
            "4. Check Balance\n",
            "5. View Transactions\n",
            "6. Exit\n",
            "Please choose an option (1-6): 6\n",
            "Thank you for using the banking system!\n"
          ]
        }
      ],
      "source": [
        "def create_acc(accounts):\n",
        "    while True:\n",
        "        Name = input(\"Please Enter your full Name OR type 'done' to finish \")\n",
        "\n",
        "        if Name.lower() == \"done\":\n",
        "            break\n",
        "\n",
        "        if not Name.replace(\" \", \"\").isalpha():\n",
        "            print(\"Please enter a valid name containing only alphabets.\")\n",
        "            continue\n",
        "\n",
        "        if Name in accounts:\n",
        "            print(\"Account already exists for this name.\")\n",
        "        else:\n",
        "            accounts[Name] = {\"Balance\": 0.0, \"Transactions\": []}\n",
        "            print(f\"Account successfully created for {Name}.\")\n",
        "\n",
        "    print(\"\\nAll Accounts Created:\")\n",
        "    for name, info in accounts.items():\n",
        "        print(f\"Name: {name}, Balance: {info['Balance']}\")\n",
        "\n",
        "def deposit(accounts):\n",
        "    Name = input(\"Please enter account holder's name for deposit: \")\n",
        "    if Name not in accounts:\n",
        "        print(\"Account does not exist. Please enter a valid name.\")\n",
        "        return\n",
        "\n",
        "    while True:\n",
        "        try:\n",
        "            Deposit_amt = float(input(f\"Enter the amount you want to deposit into {Name}'s account: \"))\n",
        "            if Deposit_amt > 0:\n",
        "                accounts[Name][\"Balance\"] += Deposit_amt\n",
        "                accounts[Name][\"Transactions\"].append(f\"Deposit: {Deposit_amt}\")\n",
        "                print(f\"Successfully deposited {Deposit_amt}. Current Balance: {accounts[Name]['Balance']}\")\n",
        "                break\n",
        "            else:\n",
        "                print(\"Please enter a positive amount\")\n",
        "        except ValueError:\n",
        "            print(\"Invalid input. Please enter a valid number.\")\n",
        "\n",
        "def withdraw(accounts):\n",
        "    Name = input(\"Please enter account holder's name for withdrawal: \")\n",
        "    if Name not in accounts:\n",
        "        print(\"Account does not exist. Please enter a valid name.\")\n",
        "        return\n",
        "\n",
        "    while True:\n",
        "        try:\n",
        "            Withdraw_amt = float(input(f\"Enter the amount you want to withdraw from {Name}'s account: \"))\n",
        "            if Withdraw_amt > 0 and Withdraw_amt <= accounts[Name][\"Balance\"]:\n",
        "                accounts[Name][\"Balance\"] -= Withdraw_amt\n",
        "                accounts[Name][\"Transactions\"].append(f\"Withdrawal: {Withdraw_amt}\")\n",
        "                print(f\"Successfully withdrew {Withdraw_amt}. Current Balance: {accounts[Name]['Balance']}\")\n",
        "                break\n",
        "            elif Withdraw_amt > accounts[Name][\"Balance\"]:\n",
        "                print(\"Insufficient funds. Please enter a smaller amount.\")\n",
        "            else:\n",
        "                print(\"Please enter a positive amount.\")\n",
        "        except ValueError:\n",
        "            print(\"Invalid input. Please enter a valid number.\")\n",
        "\n",
        "def check_balance(accounts):\n",
        "    Name = input(\"Please enter account holder's name to check balance: \")\n",
        "    if Name not in accounts:\n",
        "        print(\"Account does not exist. Please enter a valid name.\")\n",
        "    else:\n",
        "        print(f\"Current balance for {Name}: {accounts[Name]['Balance']}\")\n",
        "\n",
        "def print_transactions(accounts):\n",
        "    Name = input(\"Please enter account holder's name to view transactions: \")\n",
        "    if Name not in accounts:\n",
        "        print(\"Account does not exist. Please enter a valid name.\")\n",
        "    else:\n",
        "        print(f\"Transactions for {Name}:\")\n",
        "        if accounts[Name][\"Transactions\"]:\n",
        "            for transaction in accounts[Name][\"Transactions\"]:\n",
        "                print(transaction)\n",
        "        else:\n",
        "            print(\"No transactions yet.\")\n",
        "\n",
        "accounts = {}\n",
        "\n",
        "while True:\n",
        "    print(\"\\nWelcome to the Banking System!\")\n",
        "    print(\"1. Create Account\")\n",
        "    print(\"2. Deposit\")\n",
        "    print(\"3. Withdraw\")\n",
        "    print(\"4. Check Balance\")\n",
        "    print(\"5. View Transactions\")\n",
        "    print(\"6. Exit\")\n",
        "\n",
        "    choice = input(\"Please choose an option (1-6): \")\n",
        "\n",
        "    if choice == \"1\":\n",
        "        create_acc(accounts)\n",
        "    elif choice == \"2\":\n",
        "        deposit(accounts)\n",
        "    elif choice == \"3\":\n",
        "        withdraw(accounts)\n",
        "    elif choice == \"4\":\n",
        "        check_balance(accounts)\n",
        "    elif choice == \"5\":\n",
        "        print_transactions(accounts)\n",
        "    elif choice == \"6\":\n",
        "        print(\"Thank you for using the banking system!\")\n",
        "        break\n",
        "    else:\n",
        "        print(\"Invalid choice. Please choose a valid option.\")\n"
      ]
    },
    {
      "cell_type": "code",
      "source": [],
      "metadata": {
        "id": "vRdGEFJSsSCQ"
      },
      "execution_count": null,
      "outputs": []
    }
  ]
}